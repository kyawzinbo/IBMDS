{
 "cells": [
  {
   "cell_type": "markdown",
   "id": "d197c739-95ea-494e-bdf4-2bb052f40c87",
   "metadata": {},
   "source": [
    "# Data Science Tools and Ecosystem"
   ]
  },
  {
   "cell_type": "markdown",
   "id": "1c3c587f-d71e-4a54-bfdb-bf5f1cf4a7e6",
   "metadata": {},
   "source": [
    "In this notebook, Data Science Tools and Ecosystem are summarized."
   ]
  },
  {
   "cell_type": "markdown",
   "id": "72b43822-b612-4827-9021-d1d8cbc8cbcc",
   "metadata": {},
   "source": [
    "Some of the popular languages that Data Scientists use are:\n",
    "\n",
    "1. Python\n",
    "2. R\n",
    "3. SQL\n",
    "4. Julia"
   ]
  },
  {
   "cell_type": "markdown",
   "id": "67eeca35-0356-4565-b425-6e5ebb345bc5",
   "metadata": {},
   "source": [
    "Some of the commonly used libraries used by Data Scientists include:\n",
    "\n",
    "1. NumPy\n",
    "2. Pandas\n",
    "3. Matplotlib\n",
    "4. Scikit-learn"
   ]
  },
  {
   "cell_type": "markdown",
   "id": "f4f0e541-89f5-4eec-9a95-a617eafc2dc3",
   "metadata": {},
   "source": [
    "| Data Science Tools |\n",
    "|--------------------|\n",
    "| Jupyter Notebook   \n",
    "| RStudio            |\n",
    "| VS Code            |"
   ]
  },
  {
   "cell_type": "markdown",
   "id": "d2cbb9cc-9873-49e6-a5bf-5e3594f44ac5",
   "metadata": {},
   "source": [
    "### Below are a few examples of evaluating arithmetic expressions in Python"
   ]
  },
  {
   "cell_type": "code",
   "execution_count": 8,
   "id": "a00e2116-3715-4c9a-a97a-0cc3b4297706",
   "metadata": {},
   "outputs": [
    {
     "data": {
      "text/plain": [
       "17"
      ]
     },
     "execution_count": 8,
     "metadata": {},
     "output_type": "execute_result"
    }
   ],
   "source": [
    "# This a simple arithmetic expression to mutiply then add integers\n",
    "(3*4)+5"
   ]
  },
  {
   "cell_type": "code",
   "execution_count": 23,
   "id": "6b4ac9e6-c288-433d-9140-8bdf8606cfb5",
   "metadata": {},
   "outputs": [
    {
     "name": "stdout",
     "output_type": "stream",
     "text": [
      "3.3333333333333335\n"
     ]
    }
   ],
   "source": [
    "# This will convert 200 minutes to hours by dividing by 60\n",
    "m = 200\n",
    "h = 60\n",
    "c = m/h\n",
    "print(c)"
   ]
  },
  {
   "cell_type": "markdown",
   "id": "648dce06-e632-4267-a0ec-24e154f94430",
   "metadata": {},
   "source": [
    "**Objectives:**\n",
    "\n",
    "- List popular languages for Data Science\n",
    "- Identify commonly used data science libraries\n",
    "- Demonstrate development environment tools in a table format\n",
    "- Perform arithmetic operations like converting minutes to hours\n",
    "- Create formatted outputs using HTML and Python"
   ]
  },
  {
   "cell_type": "markdown",
   "id": "19028b31-cc45-4776-8e9b-885956b2bfa2",
   "metadata": {},
   "source": [
    "## Author\n",
    "\n",
    "Kyaw Zin Bo"
   ]
  },
  {
   "cell_type": "code",
   "execution_count": null,
   "id": "d30f1d9c-6fac-4a24-a1d8-448d8ef91d15",
   "metadata": {},
   "outputs": [],
   "source": []
  }
 ],
 "metadata": {
  "kernelspec": {
   "display_name": "Python 3 (ipykernel)",
   "language": "python",
   "name": "python3"
  },
  "language_info": {
   "codemirror_mode": {
    "name": "ipython",
    "version": 3
   },
   "file_extension": ".py",
   "mimetype": "text/x-python",
   "name": "python",
   "nbconvert_exporter": "python",
   "pygments_lexer": "ipython3",
   "version": "3.12.8"
  }
 },
 "nbformat": 4,
 "nbformat_minor": 5
}
